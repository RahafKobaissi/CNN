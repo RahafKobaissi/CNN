{
 "cells": [
  {
   "cell_type": "markdown",
   "metadata": {
    "id": "Dz8YI6Fb3ZZN"
   },
   "source": [
    "# 1. Convolutional Neural Networks"
   ]
  },
  {
   "cell_type": "code",
   "execution_count": 5,
   "metadata": {
    "colab": {
     "base_uri": "https://localhost:8080/"
    },
    "executionInfo": {
     "elapsed": 221,
     "status": "ok",
     "timestamp": 1715240535370,
     "user": {
      "displayName": "Danielle Detering US",
      "userId": "15432464718872067879"
     },
     "user_tz": 420
    },
    "id": "9kMRTHEV2AFm",
    "outputId": "f1fb3858-e6a7-4906-ec7e-c4d34abcf013",
    "scrolled": true
   },
   "outputs": [],
   "source": [
    "import torch.nn as nn\n",
    "import pandas as pd\n",
    "import torch\n",
    "from torch.optim import Adam\n",
    "from torch.utils.data import Dataset, DataLoader"
   ]
  },
  {
   "cell_type": "markdown",
   "metadata": {
    "id": "xEGukATl3ZZN"
   },
   "source": [
    "## 1.1 Loading and Preparing the Data"
   ]
  },
  {
   "cell_type": "markdown",
   "metadata": {},
   "source": [
    "### 1.1.1 Preparing Images"
   ]
  },
  {
   "cell_type": "code",
   "execution_count": 14,
   "metadata": {
    "executionInfo": {
     "elapsed": 3372,
     "status": "ok",
     "timestamp": 1715240541334,
     "user": {
      "displayName": "Danielle Detering US",
      "userId": "15432464718872067879"
     },
     "user_tz": 420
    },
    "id": "XMMgEMcc2Ehg"
   },
   "outputs": [],
   "source": [
    "train_df = pd.read_csv(\"data/asl_data/sign_mnist_train.csv\")\n",
    "valid_df = pd.read_csv(\"data/asl_data/sign_mnist_valid.csv\")"
   ]
  },
  {
   "cell_type": "markdown",
   "metadata": {},
   "source": [
    "This ASL data is already flattened."
   ]
  },
  {
   "cell_type": "code",
   "execution_count": 15,
   "metadata": {},
   "outputs": [
    {
     "data": {
      "text/plain": [
       "array([[107, 118, 127, ..., 204, 203, 202],\n",
       "       [155, 157, 156, ..., 103, 135, 149],\n",
       "       [187, 188, 188, ..., 195, 194, 195],\n",
       "       [211, 211, 212, ..., 222, 229, 163],\n",
       "       [164, 167, 170, ..., 163, 164, 179]], shape=(5, 784))"
      ]
     },
     "execution_count": 15,
     "metadata": {},
     "output_type": "execute_result"
    }
   ],
   "source": [
    "sample_df = train_df.head().copy()  # Grab the top 5 rows\n",
    "sample_df.pop('label')\n",
    "sample_x = sample_df.values\n",
    "sample_x"
   ]
  },
  {
   "cell_type": "code",
   "execution_count": 16,
   "metadata": {},
   "outputs": [
    {
     "data": {
      "text/plain": [
       "(5, 784)"
      ]
     },
     "execution_count": 16,
     "metadata": {},
     "output_type": "execute_result"
    }
   ],
   "source": [
    "sample_x.shape"
   ]
  },
  {
   "cell_type": "code",
   "execution_count": 17,
   "metadata": {},
   "outputs": [
    {
     "data": {
      "text/plain": [
       "(5, 1, 28, 28)"
      ]
     },
     "execution_count": 17,
     "metadata": {},
     "output_type": "execute_result"
    }
   ],
   "source": [
    "IMG_HEIGHT = 28\n",
    "IMG_WIDTH = 28\n",
    "IMG_CHS = 1\n",
    "\n",
    "sample_x = sample_x.reshape(-1, IMG_CHS, IMG_HEIGHT, IMG_WIDTH)\n",
    "sample_x.shape"
   ]
  },
  {
   "cell_type": "markdown",
   "metadata": {},
   "source": [
    "### 1.1.2 Create a Dataset"
   ]
  },
  {
   "cell_type": "code",
   "execution_count": 23,
   "metadata": {},
   "outputs": [],
   "source": [
    "class MyDataset(Dataset):\n",
    "    def __init__(self, base_df):\n",
    "        x_df = base_df.copy() \n",
    "        y_df = x_df.pop('label')\n",
    "        x_df = x_df.values / 255  # Normalize values from 0 to 1\n",
    "        x_df = x_df.reshape(-1, IMG_CHS, IMG_WIDTH, IMG_HEIGHT)\n",
    "        self.xs = torch.tensor(x_df).float()\n",
    "        self.ys = torch.tensor(y_df)\n",
    "\n",
    "    def __getitem__(self, idx):\n",
    "        x = self.xs[idx]\n",
    "        y = self.ys[idx]\n",
    "        return x, y\n",
    "\n",
    "    def __len__(self):\n",
    "        return len(self.xs)"
   ]
  },
  {
   "cell_type": "markdown",
   "metadata": {},
   "source": [
    "### 1.1.3 Create a DataLoader"
   ]
  },
  {
   "cell_type": "code",
   "execution_count": 24,
   "metadata": {},
   "outputs": [],
   "source": [
    "BATCH_SIZE = 32\n",
    "\n",
    "train_data = MyDataset(train_df)\n",
    "train_loader = DataLoader(train_data, batch_size=BATCH_SIZE)\n",
    "train_N = len(train_loader.dataset)\n",
    "\n",
    "valid_data = MyDataset(valid_df)\n",
    "valid_loader = DataLoader(valid_data, batch_size=BATCH_SIZE)\n",
    "valid_N = len(valid_loader.dataset)"
   ]
  },
  {
   "cell_type": "code",
   "execution_count": 25,
   "metadata": {},
   "outputs": [],
   "source": [
    "train_loader = DataLoader(train_data, batch_size=BATCH_SIZE, shuffle=True)"
   ]
  },
  {
   "cell_type": "code",
   "execution_count": 26,
   "metadata": {
    "colab": {
     "base_uri": "https://localhost:8080/"
    },
    "executionInfo": {
     "elapsed": 2,
     "status": "ok",
     "timestamp": 1715240550382,
     "user": {
      "displayName": "Danielle Detering US",
      "userId": "15432464718872067879"
     },
     "user_tz": 420
    },
    "id": "Z4xylt03dz1W",
    "outputId": "80447d85-302d-4549-976b-f4c3ac0f0644"
   },
   "outputs": [
    {
     "data": {
      "text/plain": [
       "[tensor([[[[0.6824, 0.6902, 0.6980,  ..., 0.6706, 0.6667, 0.6549],\n",
       "           [0.6863, 0.6980, 0.7059,  ..., 0.6745, 0.6706, 0.6627],\n",
       "           [0.6902, 0.7020, 0.7137,  ..., 0.6863, 0.6745, 0.6706],\n",
       "           ...,\n",
       "           [0.7961, 0.8039, 0.8392,  ..., 0.7922, 0.7843, 0.7804],\n",
       "           [0.7843, 0.8078, 0.7843,  ..., 0.7922, 0.7843, 0.7804],\n",
       "           [0.7922, 0.8314, 0.5451,  ..., 0.7882, 0.7804, 0.7765]]],\n",
       " \n",
       " \n",
       "         [[[0.6745, 0.6784, 0.6824,  ..., 0.6745, 0.6706, 0.6667],\n",
       "           [0.6824, 0.6863, 0.6902,  ..., 0.6863, 0.6784, 0.6784],\n",
       "           [0.6941, 0.6980, 0.7020,  ..., 0.7020, 0.6941, 0.6863],\n",
       "           ...,\n",
       "           [0.7686, 0.7804, 0.7882,  ..., 0.8314, 0.8235, 0.8157],\n",
       "           [0.4902, 0.4980, 0.5020,  ..., 0.7804, 0.7686, 0.7882],\n",
       "           [0.4078, 0.4118, 0.4196,  ..., 0.5725, 0.6353, 0.6706]]],\n",
       " \n",
       " \n",
       "         [[[0.7137, 0.7059, 0.7059,  ..., 0.6314, 0.6275, 0.6196],\n",
       "           [0.7176, 0.7137, 0.7137,  ..., 0.6392, 0.6314, 0.6275],\n",
       "           [0.7255, 0.7216, 0.7255,  ..., 0.6471, 0.6392, 0.6314],\n",
       "           ...,\n",
       "           [0.8078, 0.8118, 0.8000,  ..., 0.7373, 0.7294, 0.7216],\n",
       "           [0.8078, 0.8078, 0.8078,  ..., 0.7373, 0.7333, 0.7255],\n",
       "           [0.8118, 0.8118, 0.8118,  ..., 0.7333, 0.7333, 0.7255]]],\n",
       " \n",
       " \n",
       "         ...,\n",
       " \n",
       " \n",
       "         [[[0.6118, 0.6275, 0.6431,  ..., 0.7294, 0.7255, 0.7255],\n",
       "           [0.6157, 0.6314, 0.6471,  ..., 0.7294, 0.7294, 0.7333],\n",
       "           [0.6196, 0.6314, 0.6471,  ..., 0.7373, 0.7333, 0.7333],\n",
       "           ...,\n",
       "           [0.6902, 0.6902, 0.7020,  ..., 0.8275, 0.8196, 0.8157],\n",
       "           [0.6784, 0.5686, 0.5098,  ..., 0.8275, 0.8235, 0.8196],\n",
       "           [0.6431, 0.4314, 0.3059,  ..., 0.8353, 0.8275, 0.8235]]],\n",
       " \n",
       " \n",
       "         [[[0.8549, 0.8549, 0.8588,  ..., 0.8039, 0.8039, 0.7922],\n",
       "           [0.8667, 0.8667, 0.8667,  ..., 0.8157, 0.8118, 0.8039],\n",
       "           [0.8745, 0.8745, 0.8745,  ..., 0.8275, 0.8196, 0.8118],\n",
       "           ...,\n",
       "           [0.9804, 0.9804, 0.9765,  ..., 0.9373, 0.9216, 0.9294],\n",
       "           [0.9804, 0.9804, 0.9804,  ..., 0.9490, 0.9451, 0.8745],\n",
       "           [0.9804, 0.9765, 0.9843,  ..., 0.9412, 0.7294, 0.4353]]],\n",
       " \n",
       " \n",
       "         [[[0.6353, 0.6392, 0.6353,  ..., 0.5647, 0.5608, 0.5529],\n",
       "           [0.6431, 0.6431, 0.6471,  ..., 0.5725, 0.5686, 0.5647],\n",
       "           [0.6471, 0.6510, 0.6549,  ..., 0.5804, 0.5725, 0.5725],\n",
       "           ...,\n",
       "           [0.1255, 0.1137, 0.1020,  ..., 0.6902, 0.6902, 0.6824],\n",
       "           [0.1137, 0.0941, 0.0941,  ..., 0.6941, 0.6863, 0.6824],\n",
       "           [0.0706, 0.0549, 0.0902,  ..., 0.6980, 0.6902, 0.6863]]]]),\n",
       " tensor([ 5,  3,  8, 16, 14, 11,  3, 14,  1,  5,  8, 21,  8, 10, 18,  2,  6, 11,\n",
       "         15, 22, 10,  8, 17, 17,  2,  8,  4, 11, 13, 17, 13,  2])]"
      ]
     },
     "execution_count": 26,
     "metadata": {},
     "output_type": "execute_result"
    }
   ],
   "source": [
    "batch = next(iter(train_loader))\n",
    "batch"
   ]
  },
  {
   "cell_type": "code",
   "execution_count": 27,
   "metadata": {
    "colab": {
     "base_uri": "https://localhost:8080/"
    },
    "executionInfo": {
     "elapsed": 205,
     "status": "ok",
     "timestamp": 1715240552534,
     "user": {
      "displayName": "Danielle Detering US",
      "userId": "15432464718872067879"
     },
     "user_tz": 420
    },
    "id": "vannMV7sd6R_",
    "outputId": "627858a2-a4ed-467c-cf82-2b7c1a01c13f"
   },
   "outputs": [
    {
     "data": {
      "text/plain": [
       "torch.Size([32, 1, 28, 28])"
      ]
     },
     "execution_count": 27,
     "metadata": {},
     "output_type": "execute_result"
    }
   ],
   "source": [
    "batch[0].shape"
   ]
  },
  {
   "cell_type": "code",
   "execution_count": 28,
   "metadata": {
    "colab": {
     "base_uri": "https://localhost:8080/"
    },
    "executionInfo": {
     "elapsed": 204,
     "status": "ok",
     "timestamp": 1715240553488,
     "user": {
      "displayName": "Danielle Detering US",
      "userId": "15432464718872067879"
     },
     "user_tz": 420
    },
    "id": "YHJgP3A7d9lu",
    "outputId": "4a40ceb8-039b-4517-de8a-bdcb814c4164"
   },
   "outputs": [
    {
     "data": {
      "text/plain": [
       "torch.Size([32])"
      ]
     },
     "execution_count": 28,
     "metadata": {},
     "output_type": "execute_result"
    }
   ],
   "source": [
    "batch[1].shape"
   ]
  },
  {
   "cell_type": "markdown",
   "metadata": {
    "id": "6biSPXKJ3ZZP"
   },
   "source": [
    "## 1.2 Creating a Convolutional Model"
   ]
  },
  {
   "cell_type": "code",
   "execution_count": 58,
   "metadata": {
    "executionInfo": {
     "elapsed": 202,
     "status": "ok",
     "timestamp": 1715240555184,
     "user": {
      "displayName": "Danielle Detering US",
      "userId": "15432464718872067879"
     },
     "user_tz": 420
    },
    "id": "p_bvGpMId_6q"
   },
   "outputs": [],
   "source": [
    "n_classes = 24\n",
    "kernel_size = 3\n",
    "flattened_img_size = 75 * 3 * 3\n",
    "\n",
    "model = nn.Sequential(\n",
    "    # First convolution\n",
    "    nn.Conv2d(IMG_CHS, 25, kernel_size, stride=1, padding=1),  # 25 x 28 x 28\n",
    "    nn.BatchNorm2d(25),\n",
    "    nn.ReLU(),\n",
    "    nn.MaxPool2d(2, stride=2),  # 25 x 14 x 14\n",
    "    # Second convolution\n",
    "    nn.Conv2d(25, 50, kernel_size, stride=1, padding=1),  # 50 x 14 x 14\n",
    "    nn.BatchNorm2d(50),\n",
    "    nn.ReLU(),\n",
    "    nn.Dropout(.2),\n",
    "    nn.MaxPool2d(2, stride=2),  # 50 x 7 x 7\n",
    "    # Third convolution\n",
    "    nn.Conv2d(50, 75, kernel_size, stride=1, padding=1),  # 75 x 7 x 7\n",
    "    nn.BatchNorm2d(75),\n",
    "    nn.ReLU(),\n",
    "    nn.MaxPool2d(2, stride=2),  # 75 x 3 x 3\n",
    "    # Flatten to Dense\n",
    "    nn.Flatten(),\n",
    "    nn.Linear(flattened_img_size, 512),\n",
    "    nn.Dropout(.3),\n",
    "    nn.ReLU(),\n",
    "    nn.Linear(512, n_classes)\n",
    ")"
   ]
  },
  {
   "cell_type": "markdown",
   "metadata": {
    "id": "_opXKGWj3ZZQ"
   },
   "source": [
    "## 1.3 The Model"
   ]
  },
  {
   "cell_type": "code",
   "execution_count": 59,
   "metadata": {},
   "outputs": [
    {
     "data": {
      "text/plain": [
       "False"
      ]
     },
     "execution_count": 59,
     "metadata": {},
     "output_type": "execute_result"
    }
   ],
   "source": [
    "device = torch.device(\"cuda\" if torch.cuda.is_available() else \"cpu\")\n",
    "torch.cuda.is_available()"
   ]
  },
  {
   "cell_type": "code",
   "execution_count": 60,
   "metadata": {
    "colab": {
     "base_uri": "https://localhost:8080/"
    },
    "executionInfo": {
     "elapsed": 200,
     "status": "ok",
     "timestamp": 1715240557183,
     "user": {
      "displayName": "Danielle Detering US",
      "userId": "15432464718872067879"
     },
     "user_tz": 420
    },
    "id": "2IAS92gZwcP3",
    "outputId": "56678948-aed0-4aa3-dde9-b8cecbaff44d"
   },
   "outputs": [
    {
     "data": {
      "text/plain": [
       "OptimizedModule(\n",
       "  (_orig_mod): Sequential(\n",
       "    (0): Conv2d(1, 25, kernel_size=(3, 3), stride=(1, 1), padding=(1, 1))\n",
       "    (1): BatchNorm2d(25, eps=1e-05, momentum=0.1, affine=True, track_running_stats=True)\n",
       "    (2): ReLU()\n",
       "    (3): MaxPool2d(kernel_size=2, stride=2, padding=0, dilation=1, ceil_mode=False)\n",
       "    (4): Conv2d(25, 50, kernel_size=(3, 3), stride=(1, 1), padding=(1, 1))\n",
       "    (5): BatchNorm2d(50, eps=1e-05, momentum=0.1, affine=True, track_running_stats=True)\n",
       "    (6): ReLU()\n",
       "    (7): Dropout(p=0.2, inplace=False)\n",
       "    (8): MaxPool2d(kernel_size=2, stride=2, padding=0, dilation=1, ceil_mode=False)\n",
       "    (9): Conv2d(50, 75, kernel_size=(3, 3), stride=(1, 1), padding=(1, 1))\n",
       "    (10): BatchNorm2d(75, eps=1e-05, momentum=0.1, affine=True, track_running_stats=True)\n",
       "    (11): ReLU()\n",
       "    (12): MaxPool2d(kernel_size=2, stride=2, padding=0, dilation=1, ceil_mode=False)\n",
       "    (13): Flatten(start_dim=1, end_dim=-1)\n",
       "    (14): Linear(in_features=675, out_features=512, bias=True)\n",
       "    (15): Dropout(p=0.3, inplace=False)\n",
       "    (16): ReLU()\n",
       "    (17): Linear(in_features=512, out_features=24, bias=True)\n",
       "  )\n",
       ")"
      ]
     },
     "execution_count": 60,
     "metadata": {},
     "output_type": "execute_result"
    }
   ],
   "source": [
    "compiled_model = torch.compile(model.to(device))\n",
    "compiled_model"
   ]
  },
  {
   "cell_type": "code",
   "execution_count": 63,
   "metadata": {
    "executionInfo": {
     "elapsed": 237,
     "status": "ok",
     "timestamp": 1715240559055,
     "user": {
      "displayName": "Danielle Detering US",
      "userId": "15432464718872067879"
     },
     "user_tz": 420
    },
    "id": "-BUIQ5COwsri"
   },
   "outputs": [],
   "source": [
    "loss_function = nn.CrossEntropyLoss()\n",
    "optimizer = Adam(compiled_model.parameters())"
   ]
  },
  {
   "cell_type": "code",
   "execution_count": 64,
   "metadata": {
    "executionInfo": {
     "elapsed": 3,
     "status": "ok",
     "timestamp": 1715240559790,
     "user": {
      "displayName": "Danielle Detering US",
      "userId": "15432464718872067879"
     },
     "user_tz": 420
    },
    "id": "SniWnvc5NSkA"
   },
   "outputs": [],
   "source": [
    "def get_batch_accuracy(output, y, N):\n",
    "    pred = output.argmax(dim=1, keepdim=True)\n",
    "    correct = pred.eq(y.view_as(pred)).sum().item()\n",
    "    return correct / N"
   ]
  },
  {
   "cell_type": "markdown",
   "metadata": {
    "id": "OBgbUNDH3ZZR"
   },
   "source": [
    "### 1.3.1 Training the Model"
   ]
  },
  {
   "cell_type": "code",
   "execution_count": 65,
   "metadata": {},
   "outputs": [],
   "source": [
    "def validate():\n",
    "    loss = 0\n",
    "    accuracy = 0\n",
    "\n",
    "    model.eval()\n",
    "    with torch.no_grad():\n",
    "        for x, y in valid_loader:\n",
    "            output = model(x)\n",
    "\n",
    "            loss += loss_function(output, y).item()\n",
    "            accuracy += get_batch_accuracy(output, y, valid_N)\n",
    "    print('Valid - Loss: {:.4f} Accuracy: {:.4f}'.format(loss, accuracy))"
   ]
  },
  {
   "cell_type": "code",
   "execution_count": 66,
   "metadata": {},
   "outputs": [],
   "source": [
    "def train():\n",
    "    loss = 0\n",
    "    accuracy = 0\n",
    "\n",
    "    model.train()\n",
    "    for x, y in train_loader:\n",
    "        output = model(x)\n",
    "        optimizer.zero_grad()\n",
    "        batch_loss = loss_function(output, y)\n",
    "        batch_loss.backward()\n",
    "        optimizer.step()\n",
    "\n",
    "        loss += batch_loss.item()\n",
    "        accuracy += get_batch_accuracy(output, y, train_N)\n",
    "    print('Train - Loss: {:.4f} Accuracy: {:.4f}'.format(loss, accuracy))"
   ]
  },
  {
   "cell_type": "code",
   "execution_count": 67,
   "metadata": {
    "colab": {
     "base_uri": "https://localhost:8080/",
     "height": 720
    },
    "executionInfo": {
     "elapsed": 430665,
     "status": "error",
     "timestamp": 1715240995537,
     "user": {
      "displayName": "Danielle Detering US",
      "userId": "15432464718872067879"
     },
     "user_tz": 420
    },
    "id": "qOYsrlmUwyyI",
    "outputId": "ccbb497f-8f23-43c3-85c4-81f47c98728d"
   },
   "outputs": [
    {
     "name": "stdout",
     "output_type": "stream",
     "text": [
      "Epoch: 0\n",
      "Train - Loss: 242.9092 Accuracy: 0.9174\n",
      "Valid - Loss: 30.5833 Accuracy: 0.9498\n",
      "Epoch: 1\n",
      "Train - Loss: 12.3297 Accuracy: 0.9962\n",
      "Valid - Loss: 12.2767 Accuracy: 0.9813\n",
      "Epoch: 2\n",
      "Train - Loss: 14.6817 Accuracy: 0.9955\n",
      "Valid - Loss: 32.6841 Accuracy: 0.9555\n",
      "Epoch: 3\n",
      "Train - Loss: 11.7286 Accuracy: 0.9959\n",
      "Valid - Loss: 16.5277 Accuracy: 0.9720\n",
      "Epoch: 4\n",
      "Train - Loss: 0.7642 Accuracy: 0.9999\n",
      "Valid - Loss: 12.3447 Accuracy: 0.9824\n",
      "Epoch: 5\n",
      "Train - Loss: 15.2806 Accuracy: 0.9956\n",
      "Valid - Loss: 16.8242 Accuracy: 0.9816\n",
      "Epoch: 6\n",
      "Train - Loss: 3.0905 Accuracy: 0.9989\n",
      "Valid - Loss: 10.0717 Accuracy: 0.9868\n",
      "Epoch: 7\n",
      "Train - Loss: 12.1556 Accuracy: 0.9956\n",
      "Valid - Loss: 15.8152 Accuracy: 0.9782\n",
      "Epoch: 8\n",
      "Train - Loss: 1.0786 Accuracy: 0.9996\n",
      "Valid - Loss: 10.6472 Accuracy: 0.9840\n",
      "Epoch: 9\n",
      "Train - Loss: 9.3197 Accuracy: 0.9969\n",
      "Valid - Loss: 22.0103 Accuracy: 0.9657\n",
      "Epoch: 10\n",
      "Train - Loss: 5.0580 Accuracy: 0.9984\n",
      "Valid - Loss: 15.7148 Accuracy: 0.9784\n",
      "Epoch: 11\n",
      "Train - Loss: 0.3224 Accuracy: 1.0000\n",
      "Valid - Loss: 20.1934 Accuracy: 0.9732\n",
      "Epoch: 12\n",
      "Train - Loss: 7.9948 Accuracy: 0.9975\n",
      "Valid - Loss: 20.4201 Accuracy: 0.9792\n",
      "Epoch: 13\n",
      "Train - Loss: 4.3791 Accuracy: 0.9988\n",
      "Valid - Loss: 30.1557 Accuracy: 0.9706\n",
      "Epoch: 14\n",
      "Train - Loss: 5.0684 Accuracy: 0.9982\n",
      "Valid - Loss: 12.4204 Accuracy: 0.9845\n",
      "Epoch: 15\n",
      "Train - Loss: 0.8867 Accuracy: 0.9998\n",
      "Valid - Loss: 38.2050 Accuracy: 0.9699\n",
      "Epoch: 16\n",
      "Train - Loss: 6.9545 Accuracy: 0.9977\n",
      "Valid - Loss: 30.6395 Accuracy: 0.9721\n",
      "Epoch: 17\n",
      "Train - Loss: 1.6918 Accuracy: 0.9995\n",
      "Valid - Loss: 30.5611 Accuracy: 0.9716\n",
      "Epoch: 18\n",
      "Train - Loss: 2.3319 Accuracy: 0.9992\n",
      "Valid - Loss: 38.9468 Accuracy: 0.9690\n",
      "Epoch: 19\n",
      "Train - Loss: 6.3893 Accuracy: 0.9983\n",
      "Valid - Loss: 18.7311 Accuracy: 0.9791\n"
     ]
    }
   ],
   "source": [
    "epochs = 20\n",
    "\n",
    "for epoch in range(epochs):\n",
    "    print('Epoch: {}'.format(epoch))\n",
    "    train()\n",
    "    validate()"
   ]
  },
  {
   "cell_type": "markdown",
   "metadata": {},
   "source": [
    "## 1.4 Cleaning the memory"
   ]
  },
  {
   "cell_type": "code",
   "execution_count": null,
   "metadata": {
    "id": "0Ul7wgax3ZZS"
   },
   "outputs": [],
   "source": [
    "import IPython\n",
    "app = IPython.Application.instance()\n",
    "app.kernel.do_shutdown(True)"
   ]
  }
 ],
 "metadata": {
  "colab": {
   "provenance": []
  },
  "kernelspec": {
   "display_name": "Python 3 (ipykernel)",
   "language": "python",
   "name": "python3"
  },
  "language_info": {
   "codemirror_mode": {
    "name": "ipython",
    "version": 3
   },
   "file_extension": ".py",
   "mimetype": "text/x-python",
   "name": "python",
   "nbconvert_exporter": "python",
   "pygments_lexer": "ipython3",
   "version": "3.12.9"
  }
 },
 "nbformat": 4,
 "nbformat_minor": 4
}
